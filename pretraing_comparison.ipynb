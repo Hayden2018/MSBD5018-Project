{
 "cells": [
  {
   "cell_type": "code",
   "execution_count": 1,
   "metadata": {},
   "outputs": [],
   "source": [
    "import re\n",
    "\n",
    "def remove_urls_and_entities(text):\n",
    "    \"\"\"\n",
    "    Removes URLs and HTML entities from a string using regular expressions.\n",
    "    \n",
    "    Args:\n",
    "        text (str): The input string to remove URLs and HTML entities from.\n",
    "        \n",
    "    Returns:\n",
    "        str: The input string with any URLs and HTML entities removed.\n",
    "    \"\"\"\n",
    "    # Define regular expressions to match URLs and HTML entities\n",
    "    url_pattern = re.compile(r'https?://(?:www\\.\\S+|(?!www)\\S+)')\n",
    "    entity_pattern = re.compile(r'&\\w+;')\n",
    "    \n",
    "    # Use the sub() method to replace URLs and HTML entities with an empty string\n",
    "    text_without_urls_and_entities = url_pattern.sub('', text)\n",
    "    text_without_urls_and_entities = entity_pattern.sub('', text_without_urls_and_entities)\n",
    "    \n",
    "    return text_without_urls_and_entities.replace('\\n', ' ').strip()"
   ]
  },
  {
   "cell_type": "code",
   "execution_count": 2,
   "metadata": {},
   "outputs": [
    {
     "name": "stdout",
     "output_type": "stream",
     "text": [
      "Data read complete\n",
      "Total number of tweets: 1387322\n",
      "Longest tweet by tokens number: 553\n"
     ]
    }
   ],
   "source": [
    "import pickle\n",
    "from GPT2.encoder import get_encoder\n",
    "\n",
    "# Read the list of dictionaries from the pickle object\n",
    "with open('D:\\\\5005-Data\\\\tweet_combined_with_sentiment.pkl', 'rb') as f:\n",
    "    data = pickle.load(f)\n",
    "\n",
    "print('Data read complete')\n",
    "\n",
    "# Concatenate the rawContent attribute of each dictionary into a list\n",
    "tweets_list = []\n",
    "enc = get_encoder()\n",
    "for k, tweet in data.items():\n",
    "    content = remove_urls_and_entities(tweet.rawContent)\n",
    "    content = '<T-Begin>' + content + '<T-End>'\n",
    "    encoded = enc.encode(content)\n",
    "    tweets_list.append(encoded)\n",
    "\n",
    "max_len = max(len(t) for t in tweets_list)\n",
    "print('Total number of tweets:', len(tweets_list))\n",
    "print('Longest tweet by tokens number:', max_len)\n",
    "del data"
   ]
  },
  {
   "cell_type": "code",
   "execution_count": 3,
   "metadata": {},
   "outputs": [
    {
     "name": "stderr",
     "output_type": "stream",
     "text": [
      "d:\\Python\\Python310\\lib\\site-packages\\tqdm\\auto.py:22: TqdmWarning: IProgress not found. Please update jupyter and ipywidgets. See https://ipywidgets.readthedocs.io/en/stable/user_install.html\n",
      "  from .autonotebook import tqdm as notebook_tqdm\n"
     ]
    },
    {
     "data": {
      "text/plain": [
       "torch.Size([119406, 553])"
      ]
     },
     "execution_count": 3,
     "metadata": {},
     "output_type": "execute_result"
    }
   ],
   "source": [
    "import torch\n",
    "\n",
    "current = []\n",
    "new_tweets_list = []\n",
    "for t in tweets_list:\n",
    "    current.extend(t)\n",
    "    if len(current) >= max_len:\n",
    "        current = current[:max_len]\n",
    "        new_tweets_list.append(current)\n",
    "        current = t\n",
    "    \n",
    "tweets_tensor = torch.tensor(new_tweets_list, dtype=torch.int64)\n",
    "tweets_tensor.size()"
   ]
  },
  {
   "cell_type": "code",
   "execution_count": 7,
   "metadata": {},
   "outputs": [
    {
     "name": "stdout",
     "output_type": "stream",
     "text": [
      "torch.Size([4, 50257, 552])\n",
      "torch.Size([4, 552])\n",
      "Model loss with random parameters: 175.92779541015625\n"
     ]
    }
   ],
   "source": [
    "from GPT2.model import GPT2LMHeadModel\n",
    "from GPT2.config import GPT2Config\n",
    "\n",
    "config = GPT2Config()\n",
    "model = GPT2LMHeadModel(config)\n",
    "\n",
    "sample = tweets_tensor[:4]\n",
    "input_ids = sample[:, :552]\n",
    "label_ids = sample[:, 1:]\n",
    "\n",
    "loss = model(input_ids, lm_labels=label_ids)\n",
    "print('Model loss with random parameters:', float(loss))"
   ]
  },
  {
   "cell_type": "code",
   "execution_count": 6,
   "metadata": {},
   "outputs": [
    {
     "name": "stdout",
     "output_type": "stream",
     "text": [
      "torch.Size([4, 50257, 552])\n",
      "torch.Size([4, 552])\n",
      "Model loss with pre-training: 3.9554734230041504\n"
     ]
    }
   ],
   "source": [
    "from GPT2.model import GPT2LMHeadModel\n",
    "from GPT2.utils import load_weight\n",
    "from GPT2.config import GPT2Config\n",
    "\n",
    "state_dict = torch.load('gpt2-pytorch_model.bin', map_location='cpu')\n",
    "\n",
    "config = GPT2Config()\n",
    "model = GPT2LMHeadModel(config)\n",
    "model = load_weight(model, state_dict)\n",
    "\n",
    "sample = tweets_tensor[:4]\n",
    "input_ids = sample[:, :552]\n",
    "label_ids = sample[:, 1:]\n",
    "\n",
    "loss = model(input_ids, lm_labels=label_ids)\n",
    "print('Model loss with pre-training:', float(loss))"
   ]
  }
 ],
 "metadata": {
  "kernelspec": {
   "display_name": "Python 3",
   "language": "python",
   "name": "python3"
  },
  "language_info": {
   "codemirror_mode": {
    "name": "ipython",
    "version": 3
   },
   "file_extension": ".py",
   "mimetype": "text/x-python",
   "name": "python",
   "nbconvert_exporter": "python",
   "pygments_lexer": "ipython3",
   "version": "3.10.8"
  },
  "orig_nbformat": 4
 },
 "nbformat": 4,
 "nbformat_minor": 2
}
